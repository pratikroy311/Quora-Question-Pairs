{
 "cells": [
  {
   "cell_type": "markdown",
   "metadata": {},
   "source": [
    "# Importing Libraries"
   ]
  },
  {
   "cell_type": "code",
   "execution_count": 34,
   "metadata": {},
   "outputs": [],
   "source": [
    "import numpy as np\n",
    "import pandas as pd\n",
    "import time\n",
    "import matplotlib.pyplot as plt\n",
    "%matplotlib inline\n",
    "from sklearn.model_selection import train_test_split\n",
    "from sklearn.feature_extraction.text import CountVectorizer\n",
    "from sklearn.feature_extraction.text import TfidfVectorizer\n",
    "from sklearn.metrics._classification import accuracy_score,log_loss\n",
    "from sklearn.ensemble import RandomForestClassifier\n"
   ]
  },
  {
   "cell_type": "markdown",
   "metadata": {},
   "source": [
    "# Loading Data"
   ]
  },
  {
   "cell_type": "code",
   "execution_count": 3,
   "metadata": {},
   "outputs": [],
   "source": [
    "df = pd.read_csv(\"../data/train.csv.zip\")\n",
    "df_simpleFE = pd.read_csv(\"../data/df_fe_without_preprocessing_train.csv\")\n",
    "df_advanceFE = pd.read_csv(\"../data/df_advanced_fe.csv\")\n",
    "\n",
    "# we can train indiviual models on these 3 dfs and check how they are performing.\n",
    "# I am going to work on final df that is combination of simple + advance features and which makes\n",
    "# sense that is is going to perform better as compared to normal one"
   ]
  },
  {
   "cell_type": "code",
   "execution_count": 9,
   "metadata": {},
   "outputs": [
    {
     "data": {
      "text/plain": [
       "Index(['id', 'qid1', 'qid2', 'question1', 'question2', 'is_duplicate'], dtype='object')"
      ]
     },
     "execution_count": 9,
     "metadata": {},
     "output_type": "execute_result"
    }
   ],
   "source": [
    "df.columns"
   ]
  },
  {
   "cell_type": "code",
   "execution_count": 6,
   "metadata": {},
   "outputs": [
    {
     "data": {
      "text/plain": [
       "Index(['id', 'qid1', 'qid2', 'question1', 'question2', 'is_duplicate',\n",
       "       'freq_qid1', 'freq_qid2', 'q1len', 'q2len', 'q1_n_words', 'q2_n_words',\n",
       "       'word_Common', 'word_Total', 'word_share', 'freq_q1+q2', 'freq_q1-q2'],\n",
       "      dtype='object')"
      ]
     },
     "execution_count": 6,
     "metadata": {},
     "output_type": "execute_result"
    }
   ],
   "source": [
    "df_simpleFE.columns"
   ]
  },
  {
   "cell_type": "code",
   "execution_count": 7,
   "metadata": {},
   "outputs": [
    {
     "data": {
      "text/plain": [
       "Index(['id', 'qid1', 'qid2', 'question1', 'question2', 'is_duplicate',\n",
       "       'cwc_min', 'cwc_max', 'csc_min', 'csc_max', 'ctc_min', 'ctc_max',\n",
       "       'last_word_eq', 'first_word_eq', 'abs_len_diff', 'mean_len',\n",
       "       'token_set_ratio', 'token_sort_ratio', 'fuzz_ratio',\n",
       "       'fuzz_partial_ratio', 'longest_substr_ratio'],\n",
       "      dtype='object')"
      ]
     },
     "execution_count": 7,
     "metadata": {},
     "output_type": "execute_result"
    }
   ],
   "source": [
    "df_advanceFE.columns"
   ]
  },
  {
   "cell_type": "markdown",
   "metadata": {},
   "source": [
    "*   so we have question1 and question2 as text data which we need to convert into vectors in order for the models to understand"
   ]
  },
  {
   "cell_type": "markdown",
   "metadata": {},
   "source": [
    "# Splitting the data into train-test"
   ]
  },
  {
   "cell_type": "markdown",
   "metadata": {},
   "source": [
    "#### we will be using df_final which is combination of simple features + advance features\n"
   ]
  },
  {
   "cell_type": "code",
   "execution_count": 11,
   "metadata": {},
   "outputs": [
    {
     "name": "stdout",
     "output_type": "stream",
     "text": [
      "Shape of data:  (404269, 32)\n"
     ]
    },
    {
     "data": {
      "text/html": [
       "<div>\n",
       "<style scoped>\n",
       "    .dataframe tbody tr th:only-of-type {\n",
       "        vertical-align: middle;\n",
       "    }\n",
       "\n",
       "    .dataframe tbody tr th {\n",
       "        vertical-align: top;\n",
       "    }\n",
       "\n",
       "    .dataframe thead th {\n",
       "        text-align: right;\n",
       "    }\n",
       "</style>\n",
       "<table border=\"1\" class=\"dataframe\">\n",
       "  <thead>\n",
       "    <tr style=\"text-align: right;\">\n",
       "      <th></th>\n",
       "      <th>id</th>\n",
       "      <th>qid1</th>\n",
       "      <th>qid2</th>\n",
       "      <th>question1</th>\n",
       "      <th>question2</th>\n",
       "      <th>is_duplicate</th>\n",
       "      <th>freq_qid1</th>\n",
       "      <th>freq_qid2</th>\n",
       "      <th>q1len</th>\n",
       "      <th>q2len</th>\n",
       "      <th>...</th>\n",
       "      <th>ctc_max</th>\n",
       "      <th>last_word_eq</th>\n",
       "      <th>first_word_eq</th>\n",
       "      <th>abs_len_diff</th>\n",
       "      <th>mean_len</th>\n",
       "      <th>token_set_ratio</th>\n",
       "      <th>token_sort_ratio</th>\n",
       "      <th>fuzz_ratio</th>\n",
       "      <th>fuzz_partial_ratio</th>\n",
       "      <th>longest_substr_ratio</th>\n",
       "    </tr>\n",
       "  </thead>\n",
       "  <tbody>\n",
       "    <tr>\n",
       "      <th>303190</th>\n",
       "      <td>303208</td>\n",
       "      <td>107848</td>\n",
       "      <td>426314</td>\n",
       "      <td>are men generally physically stronger than women</td>\n",
       "      <td>if it is true that men are generally stronger ...</td>\n",
       "      <td>0</td>\n",
       "      <td>1</td>\n",
       "      <td>1</td>\n",
       "      <td>49</td>\n",
       "      <td>122</td>\n",
       "      <td>...</td>\n",
       "      <td>0.238094</td>\n",
       "      <td>0.0</td>\n",
       "      <td>0.0</td>\n",
       "      <td>14.0</td>\n",
       "      <td>14.0</td>\n",
       "      <td>87</td>\n",
       "      <td>52</td>\n",
       "      <td>38</td>\n",
       "      <td>58</td>\n",
       "      <td>0.280000</td>\n",
       "    </tr>\n",
       "    <tr>\n",
       "      <th>83369</th>\n",
       "      <td>83374</td>\n",
       "      <td>141162</td>\n",
       "      <td>141163</td>\n",
       "      <td>your application is under process at income ta...</td>\n",
       "      <td>income tax  how to check pan card status</td>\n",
       "      <td>0</td>\n",
       "      <td>1</td>\n",
       "      <td>5</td>\n",
       "      <td>150</td>\n",
       "      <td>41</td>\n",
       "      <td>...</td>\n",
       "      <td>0.199999</td>\n",
       "      <td>0.0</td>\n",
       "      <td>0.0</td>\n",
       "      <td>17.0</td>\n",
       "      <td>16.5</td>\n",
       "      <td>80</td>\n",
       "      <td>40</td>\n",
       "      <td>38</td>\n",
       "      <td>68</td>\n",
       "      <td>0.404762</td>\n",
       "    </tr>\n",
       "    <tr>\n",
       "      <th>204300</th>\n",
       "      <td>204312</td>\n",
       "      <td>106616</td>\n",
       "      <td>257212</td>\n",
       "      <td>will we be able to make websites if we lose ne...</td>\n",
       "      <td>would there still be web hosting without net n...</td>\n",
       "      <td>1</td>\n",
       "      <td>3</td>\n",
       "      <td>2</td>\n",
       "      <td>59</td>\n",
       "      <td>56</td>\n",
       "      <td>...</td>\n",
       "      <td>0.249998</td>\n",
       "      <td>1.0</td>\n",
       "      <td>0.0</td>\n",
       "      <td>3.0</td>\n",
       "      <td>10.5</td>\n",
       "      <td>58</td>\n",
       "      <td>58</td>\n",
       "      <td>53</td>\n",
       "      <td>53</td>\n",
       "      <td>0.280702</td>\n",
       "    </tr>\n",
       "    <tr>\n",
       "      <th>36318</th>\n",
       "      <td>36322</td>\n",
       "      <td>66246</td>\n",
       "      <td>66247</td>\n",
       "      <td>are engineers overpaid</td>\n",
       "      <td>why are engineers so overpaid</td>\n",
       "      <td>0</td>\n",
       "      <td>1</td>\n",
       "      <td>1</td>\n",
       "      <td>23</td>\n",
       "      <td>30</td>\n",
       "      <td>...</td>\n",
       "      <td>0.599988</td>\n",
       "      <td>1.0</td>\n",
       "      <td>0.0</td>\n",
       "      <td>2.0</td>\n",
       "      <td>4.0</td>\n",
       "      <td>100</td>\n",
       "      <td>86</td>\n",
       "      <td>86</td>\n",
       "      <td>87</td>\n",
       "      <td>0.583333</td>\n",
       "    </tr>\n",
       "    <tr>\n",
       "      <th>152762</th>\n",
       "      <td>152771</td>\n",
       "      <td>75895</td>\n",
       "      <td>44135</td>\n",
       "      <td>why arnab goswami resigned times now</td>\n",
       "      <td>why did arnab goswami left et now</td>\n",
       "      <td>1</td>\n",
       "      <td>4</td>\n",
       "      <td>11</td>\n",
       "      <td>37</td>\n",
       "      <td>34</td>\n",
       "      <td>...</td>\n",
       "      <td>0.571420</td>\n",
       "      <td>1.0</td>\n",
       "      <td>1.0</td>\n",
       "      <td>1.0</td>\n",
       "      <td>6.5</td>\n",
       "      <td>78</td>\n",
       "      <td>61</td>\n",
       "      <td>72</td>\n",
       "      <td>68</td>\n",
       "      <td>0.428571</td>\n",
       "    </tr>\n",
       "  </tbody>\n",
       "</table>\n",
       "<p>5 rows × 32 columns</p>\n",
       "</div>"
      ],
      "text/plain": [
       "            id    qid1    qid2  \\\n",
       "303190  303208  107848  426314   \n",
       "83369    83374  141162  141163   \n",
       "204300  204312  106616  257212   \n",
       "36318    36322   66246   66247   \n",
       "152762  152771   75895   44135   \n",
       "\n",
       "                                                question1  \\\n",
       "303190  are men generally physically stronger than women    \n",
       "83369   your application is under process at income ta...   \n",
       "204300  will we be able to make websites if we lose ne...   \n",
       "36318                             are engineers overpaid    \n",
       "152762              why arnab goswami resigned times now    \n",
       "\n",
       "                                                question2  is_duplicate  \\\n",
       "303190  if it is true that men are generally stronger ...             0   \n",
       "83369           income tax  how to check pan card status              0   \n",
       "204300  would there still be web hosting without net n...             1   \n",
       "36318                      why are engineers so overpaid              0   \n",
       "152762                 why did arnab goswami left et now              1   \n",
       "\n",
       "        freq_qid1  freq_qid2  q1len  q2len  ...   ctc_max  last_word_eq  \\\n",
       "303190          1          1     49    122  ...  0.238094           0.0   \n",
       "83369           1          5    150     41  ...  0.199999           0.0   \n",
       "204300          3          2     59     56  ...  0.249998           1.0   \n",
       "36318           1          1     23     30  ...  0.599988           1.0   \n",
       "152762          4         11     37     34  ...  0.571420           1.0   \n",
       "\n",
       "        first_word_eq  abs_len_diff  mean_len  token_set_ratio  \\\n",
       "303190            0.0          14.0      14.0               87   \n",
       "83369             0.0          17.0      16.5               80   \n",
       "204300            0.0           3.0      10.5               58   \n",
       "36318             0.0           2.0       4.0              100   \n",
       "152762            1.0           1.0       6.5               78   \n",
       "\n",
       "        token_sort_ratio  fuzz_ratio  fuzz_partial_ratio  longest_substr_ratio  \n",
       "303190                52          38                  58              0.280000  \n",
       "83369                 40          38                  68              0.404762  \n",
       "204300                58          53                  53              0.280702  \n",
       "36318                 86          86                  87              0.583333  \n",
       "152762                61          72                  68              0.428571  \n",
       "\n",
       "[5 rows x 32 columns]"
      ]
     },
     "execution_count": 11,
     "metadata": {},
     "output_type": "execute_result"
    }
   ],
   "source": [
    "# reading the data\n",
    "data = pd.read_csv(\"../data/final_df.csv\")\n",
    "print(\"Shape of data: \",data.shape)\n",
    "data.sample(5)\n"
   ]
  },
  {
   "cell_type": "markdown",
   "metadata": {},
   "source": [
    "*   I have 404k data points.\n",
    "*   We will perform 70:30 split"
   ]
  },
  {
   "cell_type": "code",
   "execution_count": 16,
   "metadata": {},
   "outputs": [
    {
     "name": "stdout",
     "output_type": "stream",
     "text": [
      "No of data points and features in Train:  (282988, 31)\n",
      "No of data points and features in Test:  (121281, 31)\n",
      "69.99992579198504 30.000074208014958\n"
     ]
    },
    {
     "data": {
      "image/png": "[encoded data removed]",
      "text/plain": [
       "<Figure size 640x480 with 1 Axes>"
      ]
     },
     "metadata": {},
     "output_type": "display_data"
    }
   ],
   "source": [
    "from matplotlib import pyplot as plt\n",
    "from sklearn.model_selection import train_test_split\n",
    "\n",
    "\n",
    "y = data[\"is_duplicate\"]\n",
    "x = data.drop([\"is_duplicate\"],axis=1)\n",
    "\n",
    "X_train,X_test, Y_train, Y_test = train_test_split(x,y,test_size=0.3,stratify =y)\n",
    "\n",
    "print(\"No of data points and features in Train: \",X_train.shape)\n",
    "print(\"No of data points and features in Test: \",X_test.shape)\n",
    "\n",
    "total = Y_train.shape[0]+Y_test.shape[0]\n",
    "total = Y_train.shape[0] + Y_test.shape[0]\n",
    "trainP = (Y_train.shape[0]/total)*100\n",
    "testP = (Y_test.shape[0]/total)*100\n",
    "\n",
    "print(trainP,testP)\n",
    "labels = ['train%','test%']\n",
    "sizes = [70.0,30.0]\n",
    "explode = (0.1,0)\n",
    "fig1, ax1 = plt.subplots()\n",
    "ax1.pie(sizes, explode = explode, labels=labels, autopct = \"%1.1f%%\",shadow =True,startangle=90)\n",
    "ax1.axis('equal')\n",
    "\n",
    "plt.show()"
   ]
  },
  {
   "cell_type": "markdown",
   "metadata": {},
   "source": [
    "# Featurization : Making Data Model Ready(Encoding Question1 and Question2)\n"
   ]
  },
  {
   "cell_type": "markdown",
   "metadata": {},
   "source": [
    "## BAG-OF-WORDS"
   ]
  },
  {
   "cell_type": "code",
   "execution_count": 21,
   "metadata": {},
   "outputs": [],
   "source": [
    "X_train_combined_text = X_train[\"question1\"]+\" \" + X_train[\"question2\"]\n",
    "X_test_combined_text = X_test[\"question1\"]+\" \" + X_test[\"question2\"]\n",
    "\n",
    "bow = CountVectorizer(max_features=2000)\n",
    "X_train_bow = bow.fit_transform(X_train_combined_text)\n",
    "X_test_bow = bow.transform(X_test_combined_text)\n",
    "\n"
   ]
  },
  {
   "cell_type": "code",
   "execution_count": 32,
   "metadata": {},
   "outputs": [
    {
     "name": "stdout",
     "output_type": "stream",
     "text": [
      "(282988, 2026)\n",
      "(121281, 2026)\n"
     ]
    }
   ],
   "source": [
    "X_train_final_bow = X_train.drop(columns=[\"id\",\"qid1\",\"qid2\",\"question1\",\"question2\"])\n",
    "X_train_final_bow = np.hstack([X_train_final_bow,X_train_bow.toarray()])\n",
    "\n",
    "#test set\n",
    "X_test_final_bow = X_test.drop(columns=[\"id\",\"qid1\",\"qid2\",\"question1\",\"question2\"])\n",
    "X_test_final_bow = np.hstack([X_test_final_bow,X_test_bow.toarray()])\n",
    "print(X_train_final_bow.shape)\n",
    "print(X_test_final_bow.shape)"
   ]
  },
  {
   "cell_type": "code",
   "execution_count": 35,
   "metadata": {},
   "outputs": [
    {
     "name": "stdout",
     "output_type": "stream",
     "text": [
      "Accuracy: 0.8455982388008014\n",
      "Log loss on Test Data using Random Model 5.332894213796449\n"
     ]
    }
   ],
   "source": [
    "\n",
    "rf_classifier = RandomForestClassifier(n_estimators=100, random_state=42)\n",
    "# Train the model\n",
    "rf_classifier.fit(X_train_final_bow, Y_train)\n",
    "\n",
    "# Predict on the test set\n",
    "y_pred = rf_classifier.predict(X_test_final_bow)\n",
    "# Evaluate the model\n",
    "accuracy = accuracy_score(Y_test, y_pred)\n",
    "print(f'Accuracy: {accuracy}')\n",
    "print(\"Log loss on Test Data using Random Model\",log_loss(Y_test, y_pred, eps=1e-15))"
   ]
  },
  {
   "cell_type": "markdown",
   "metadata": {},
   "source": [
    "## TF-IDF"
   ]
  },
  {
   "cell_type": "code",
   "execution_count": 39,
   "metadata": {},
   "outputs": [],
   "source": [
    "tfidf = TfidfVectorizer(max_features=2000)\n",
    "X_train_tfidf = tfidf.fit_transform(X_train_combined_text)\n",
    "X_test_tfidf = tfidf.transform(X_test_combined_text)"
   ]
  },
  {
   "cell_type": "code",
   "execution_count": 40,
   "metadata": {},
   "outputs": [
    {
     "name": "stdout",
     "output_type": "stream",
     "text": [
      "(282988, 2026)\n",
      "(121281, 2026)\n"
     ]
    }
   ],
   "source": [
    "X_train_final_tfidf = X_train.drop(columns=[\"id\",\"qid1\",\"qid2\",\"question1\",\"question2\"])\n",
    "X_train_final_tfidf = np.hstack([X_train_final_tfidf,X_train_tfidf.toarray()])\n",
    "\n",
    "#test set\n",
    "X_test_final_tfidf = X_test.drop(columns=[\"id\",\"qid1\",\"qid2\",\"question1\",\"question2\"])\n",
    "X_test_final_tfidf = np.hstack([X_test_final_tfidf,X_test_tfidf.toarray()])\n",
    "print(X_train_final_tfidf.shape)\n",
    "print(X_test_final_tfidf.shape)"
   ]
  },
  {
   "cell_type": "code",
   "execution_count": 41,
   "metadata": {},
   "outputs": [
    {
     "name": "stdout",
     "output_type": "stream",
     "text": [
      "Accuracy: 0.8454415778234019\n",
      "Log loss on Test Data using Random Model 5.338304716467517\n"
     ]
    }
   ],
   "source": [
    "\n",
    "rf_classifier = RandomForestClassifier(n_estimators=100, random_state=42)\n",
    "# Train the model\n",
    "rf_classifier.fit(X_train_final_tfidf, Y_train)\n",
    "\n",
    "# Predict on the test set\n",
    "y_pred = rf_classifier.predict(X_test_final_tfidf)\n",
    "# Evaluate the model\n",
    "accuracy = accuracy_score(Y_test, y_pred)\n",
    "print(f'Accuracy: {accuracy}')\n",
    "print(\"Log loss on Test Data using Random Model\",log_loss(Y_test, y_pred, eps=1e-15))"
   ]
  },
  {
   "cell_type": "code",
   "execution_count": null,
   "metadata": {},
   "outputs": [],
   "source": []
  },
  {
   "cell_type": "code",
   "execution_count": null,
   "metadata": {},
   "outputs": [],
   "source": []
  }
 ],
 "metadata": {
  "kernelspec": {
   "display_name": "ml",
   "language": "python",
   "name": "python3"
  },
  "language_info": {
   "codemirror_mode": {
    "name": "ipython",
    "version": 3
   },
   "file_extension": ".py",
   "mimetype": "text/x-python",
   "name": "python",
   "nbconvert_exporter": "python",
   "pygments_lexer": "ipython3",
   "version": "3.10.9"
  }
 },
 "nbformat": 4,
 "nbformat_minor": 2
}
